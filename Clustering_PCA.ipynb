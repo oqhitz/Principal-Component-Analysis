{
  "nbformat": 4,
  "nbformat_minor": 0,
  "metadata": {
    "kernelspec": {
      "display_name": "Python 3",
      "language": "python",
      "name": "python3"
    },
    "language_info": {
      "codemirror_mode": {
        "name": "ipython",
        "version": 3
      },
      "file_extension": ".py",
      "mimetype": "text/x-python",
      "name": "python",
      "nbconvert_exporter": "python",
      "pygments_lexer": "ipython3",
      "version": "3.8.5"
    },
    "colab": {
      "name": "Clustering_PCA.ipynb",
      "provenance": []
    }
  },
  "cells": [
    {
      "cell_type": "markdown",
      "metadata": {
        "_uuid": "3fb98ffb8a490b1ec4d5680e97421c75563f7781",
        "id": "C8tJ4BgHeLQI"
      },
      "source": [
        "# Country Cluster Identification"
      ]
    },
    {
      "cell_type": "markdown",
      "metadata": {
        "_uuid": "2833f895f98421986a8eace8c5f03dd6d9893bc6",
        "id": "OK4v3Zm8eLQm"
      },
      "source": [
        "## Clustering with PCA"
      ]
    },
    {
      "cell_type": "markdown",
      "metadata": {
        "_uuid": "d6f92b30643088292947f5cd0562b8ade392bfd6",
        "id": "IAT-QzR5eLQo"
      },
      "source": [
        "## Problem Statement\n",
        "HELP International is an international humanitarian NGO that is committed to fighting poverty and providing the people of backward countries with basic amenities and relief during the time of disasters and natural calamities. It runs a lot of operational projects from time to time along with advocacy drives to raise awareness as well as for funding purposes.\n",
        "\n",
        " \n",
        "After the recent project that included a lot of awareness drives and funding programmes, they have been able to raise around $ 10 million. Now the CEO of the NGO needs to decide how to use this money strategically and effectively. The significant issues that come while making this decision are mostly related to choosing the countries that are in the direst need of aid. \n",
        "\n",
        " \n",
        "\n",
        "And this is where you come in as a data analyst. Your job is to categorise the countries using some socio-economic and health factors that determine the overall development of the country. Then you need to suggest the countries which the CEO needs to focus on the most.  \n",
        "\n",
        "## Data\n",
        "The datasets containing those socio-economic factors and the corresponding data dictionary are provided."
      ]
    },
    {
      "cell_type": "code",
      "metadata": {
        "_uuid": "d3e208d92cc3da35dcfda40e1a5dcdd2c6c299a5",
        "id": "zlSeHtZkeLQq"
      },
      "source": [
        "# Importing libraries\n",
        "import numpy as np\n",
        "import pandas as pd\n",
        "import matplotlib.pyplot as plt\n",
        "import seaborn as sns\n",
        "# To perform Hierarchical clustering\n",
        "from scipy.cluster.hierarchy import linkage\n",
        "from scipy.cluster.hierarchy import dendrogram\n",
        "from scipy.cluster.hierarchy import cut_tree"
      ],
      "execution_count": null,
      "outputs": []
    },
    {
      "cell_type": "markdown",
      "metadata": {
        "_uuid": "bebb7325d9cae7a7dcd01bb219178452eb4c3fb3",
        "id": "5F2po3BgeLQt"
      },
      "source": [
        "### Data Loading"
      ]
    },
    {
      "cell_type": "code",
      "metadata": {
        "_uuid": "b7ee50954aa45b8e5d8255ed2b7ddb6d0351e404",
        "id": "IL7aeAFEeLQu",
        "outputId": "e8142cd3-565e-4dd7-db37-e9ad6d8cdb8d"
      },
      "source": [
        "data = pd.read_csv('D:/Country-data.csv')\n",
        "data.head(5)"
      ],
      "execution_count": null,
      "outputs": [
        {
          "output_type": "execute_result",
          "data": {
            "text/html": [
              "<div>\n",
              "<style scoped>\n",
              "    .dataframe tbody tr th:only-of-type {\n",
              "        vertical-align: middle;\n",
              "    }\n",
              "\n",
              "    .dataframe tbody tr th {\n",
              "        vertical-align: top;\n",
              "    }\n",
              "\n",
              "    .dataframe thead th {\n",
              "        text-align: right;\n",
              "    }\n",
              "</style>\n",
              "<table border=\"1\" class=\"dataframe\">\n",
              "  <thead>\n",
              "    <tr style=\"text-align: right;\">\n",
              "      <th></th>\n",
              "      <th>country</th>\n",
              "      <th>child_mort</th>\n",
              "      <th>exports</th>\n",
              "      <th>health</th>\n",
              "      <th>imports</th>\n",
              "      <th>income</th>\n",
              "      <th>inflation</th>\n",
              "      <th>life_expec</th>\n",
              "      <th>total_fer</th>\n",
              "      <th>gdpp</th>\n",
              "    </tr>\n",
              "  </thead>\n",
              "  <tbody>\n",
              "    <tr>\n",
              "      <th>0</th>\n",
              "      <td>Afghanistan</td>\n",
              "      <td>90.2</td>\n",
              "      <td>10.0</td>\n",
              "      <td>7.58</td>\n",
              "      <td>44.9</td>\n",
              "      <td>1610</td>\n",
              "      <td>9.44</td>\n",
              "      <td>56.2</td>\n",
              "      <td>5.82</td>\n",
              "      <td>553</td>\n",
              "    </tr>\n",
              "    <tr>\n",
              "      <th>1</th>\n",
              "      <td>Albania</td>\n",
              "      <td>16.6</td>\n",
              "      <td>28.0</td>\n",
              "      <td>6.55</td>\n",
              "      <td>48.6</td>\n",
              "      <td>9930</td>\n",
              "      <td>4.49</td>\n",
              "      <td>76.3</td>\n",
              "      <td>1.65</td>\n",
              "      <td>4090</td>\n",
              "    </tr>\n",
              "    <tr>\n",
              "      <th>2</th>\n",
              "      <td>Algeria</td>\n",
              "      <td>27.3</td>\n",
              "      <td>38.4</td>\n",
              "      <td>4.17</td>\n",
              "      <td>31.4</td>\n",
              "      <td>12900</td>\n",
              "      <td>16.10</td>\n",
              "      <td>76.5</td>\n",
              "      <td>2.89</td>\n",
              "      <td>4460</td>\n",
              "    </tr>\n",
              "    <tr>\n",
              "      <th>3</th>\n",
              "      <td>Angola</td>\n",
              "      <td>119.0</td>\n",
              "      <td>62.3</td>\n",
              "      <td>2.85</td>\n",
              "      <td>42.9</td>\n",
              "      <td>5900</td>\n",
              "      <td>22.40</td>\n",
              "      <td>60.1</td>\n",
              "      <td>6.16</td>\n",
              "      <td>3530</td>\n",
              "    </tr>\n",
              "    <tr>\n",
              "      <th>4</th>\n",
              "      <td>Antigua and Barbuda</td>\n",
              "      <td>10.3</td>\n",
              "      <td>45.5</td>\n",
              "      <td>6.03</td>\n",
              "      <td>58.9</td>\n",
              "      <td>19100</td>\n",
              "      <td>1.44</td>\n",
              "      <td>76.8</td>\n",
              "      <td>2.13</td>\n",
              "      <td>12200</td>\n",
              "    </tr>\n",
              "  </tbody>\n",
              "</table>\n",
              "</div>"
            ],
            "text/plain": [
              "               country  child_mort  exports  health  imports  income  \\\n",
              "0          Afghanistan        90.2     10.0    7.58     44.9    1610   \n",
              "1              Albania        16.6     28.0    6.55     48.6    9930   \n",
              "2              Algeria        27.3     38.4    4.17     31.4   12900   \n",
              "3               Angola       119.0     62.3    2.85     42.9    5900   \n",
              "4  Antigua and Barbuda        10.3     45.5    6.03     58.9   19100   \n",
              "\n",
              "   inflation  life_expec  total_fer   gdpp  \n",
              "0       9.44        56.2       5.82    553  \n",
              "1       4.49        76.3       1.65   4090  \n",
              "2      16.10        76.5       2.89   4460  \n",
              "3      22.40        60.1       6.16   3530  \n",
              "4       1.44        76.8       2.13  12200  "
            ]
          },
          "metadata": {
            "tags": []
          },
          "execution_count": 153
        }
      ]
    },
    {
      "cell_type": "code",
      "metadata": {
        "id": "0BubikBkeLQx",
        "outputId": "5ede3d32-2db0-48f6-c1f9-8613df8fd41c"
      },
      "source": [
        "data.shape"
      ],
      "execution_count": null,
      "outputs": [
        {
          "output_type": "execute_result",
          "data": {
            "text/plain": [
              "(167, 10)"
            ]
          },
          "metadata": {
            "tags": []
          },
          "execution_count": 154
        }
      ]
    },
    {
      "cell_type": "markdown",
      "metadata": {
        "id": "Pi8f89ileLQy"
      },
      "source": [
        "### Cek Duplicate Country"
      ]
    },
    {
      "cell_type": "code",
      "metadata": {
        "_uuid": "47f032c8859e0ed09b57feaad6b6d943976f40f7",
        "id": "9gyiXnvfeLQy",
        "outputId": "f2cf621a-ed1e-4e04-d727-f0f3e5ed2c82"
      },
      "source": [
        "data=data.drop_duplicates(subset=[\"country\"])\n",
        "data.shape"
      ],
      "execution_count": null,
      "outputs": [
        {
          "output_type": "execute_result",
          "data": {
            "text/plain": [
              "(167, 10)"
            ]
          },
          "metadata": {
            "tags": []
          },
          "execution_count": 155
        }
      ]
    },
    {
      "cell_type": "markdown",
      "metadata": {
        "_uuid": "03b9cc64331731fdf9ab57e7063862bbd5b087a4",
        "id": "VSceFVApeLQz"
      },
      "source": [
        "### Data Understanding"
      ]
    },
    {
      "cell_type": "code",
      "metadata": {
        "_uuid": "98abca03092f3c97529e1fa214c3fd65e56c6701",
        "id": "_szM9RY1eLQ0",
        "outputId": "8144fa66-2560-406a-8889-e64978327e06"
      },
      "source": [
        "data.info()"
      ],
      "execution_count": null,
      "outputs": [
        {
          "output_type": "stream",
          "text": [
            "<class 'pandas.core.frame.DataFrame'>\n",
            "Int64Index: 167 entries, 0 to 166\n",
            "Data columns (total 10 columns):\n",
            " #   Column      Non-Null Count  Dtype  \n",
            "---  ------      --------------  -----  \n",
            " 0   country     167 non-null    object \n",
            " 1   child_mort  167 non-null    float64\n",
            " 2   exports     167 non-null    float64\n",
            " 3   health      167 non-null    float64\n",
            " 4   imports     167 non-null    float64\n",
            " 5   income      167 non-null    int64  \n",
            " 6   inflation   167 non-null    float64\n",
            " 7   life_expec  167 non-null    float64\n",
            " 8   total_fer   167 non-null    float64\n",
            " 9   gdpp        167 non-null    int64  \n",
            "dtypes: float64(7), int64(2), object(1)\n",
            "memory usage: 14.4+ KB\n"
          ],
          "name": "stdout"
        }
      ]
    },
    {
      "cell_type": "code",
      "metadata": {
        "_uuid": "3c07d6c24088d43904fc145ab71152c1bc776fc9",
        "id": "hRJhhCbFeLQ0",
        "outputId": "5b9976de-17f4-4a61-a8bc-d5866fb06643"
      },
      "source": [
        "data.describe()"
      ],
      "execution_count": null,
      "outputs": [
        {
          "output_type": "execute_result",
          "data": {
            "text/html": [
              "<div>\n",
              "<style scoped>\n",
              "    .dataframe tbody tr th:only-of-type {\n",
              "        vertical-align: middle;\n",
              "    }\n",
              "\n",
              "    .dataframe tbody tr th {\n",
              "        vertical-align: top;\n",
              "    }\n",
              "\n",
              "    .dataframe thead th {\n",
              "        text-align: right;\n",
              "    }\n",
              "</style>\n",
              "<table border=\"1\" class=\"dataframe\">\n",
              "  <thead>\n",
              "    <tr style=\"text-align: right;\">\n",
              "      <th></th>\n",
              "      <th>child_mort</th>\n",
              "      <th>exports</th>\n",
              "      <th>health</th>\n",
              "      <th>imports</th>\n",
              "      <th>income</th>\n",
              "      <th>inflation</th>\n",
              "      <th>life_expec</th>\n",
              "      <th>total_fer</th>\n",
              "      <th>gdpp</th>\n",
              "    </tr>\n",
              "  </thead>\n",
              "  <tbody>\n",
              "    <tr>\n",
              "      <th>count</th>\n",
              "      <td>167.000000</td>\n",
              "      <td>167.000000</td>\n",
              "      <td>167.000000</td>\n",
              "      <td>167.000000</td>\n",
              "      <td>167.000000</td>\n",
              "      <td>167.000000</td>\n",
              "      <td>167.000000</td>\n",
              "      <td>167.000000</td>\n",
              "      <td>167.000000</td>\n",
              "    </tr>\n",
              "    <tr>\n",
              "      <th>mean</th>\n",
              "      <td>38.270060</td>\n",
              "      <td>41.108976</td>\n",
              "      <td>6.815689</td>\n",
              "      <td>46.890215</td>\n",
              "      <td>17144.688623</td>\n",
              "      <td>7.781832</td>\n",
              "      <td>70.555689</td>\n",
              "      <td>2.947964</td>\n",
              "      <td>12964.155689</td>\n",
              "    </tr>\n",
              "    <tr>\n",
              "      <th>std</th>\n",
              "      <td>40.328931</td>\n",
              "      <td>27.412010</td>\n",
              "      <td>2.746837</td>\n",
              "      <td>24.209589</td>\n",
              "      <td>19278.067698</td>\n",
              "      <td>10.570704</td>\n",
              "      <td>8.893172</td>\n",
              "      <td>1.513848</td>\n",
              "      <td>18328.704809</td>\n",
              "    </tr>\n",
              "    <tr>\n",
              "      <th>min</th>\n",
              "      <td>2.600000</td>\n",
              "      <td>0.109000</td>\n",
              "      <td>1.810000</td>\n",
              "      <td>0.065900</td>\n",
              "      <td>609.000000</td>\n",
              "      <td>-4.210000</td>\n",
              "      <td>32.100000</td>\n",
              "      <td>1.150000</td>\n",
              "      <td>231.000000</td>\n",
              "    </tr>\n",
              "    <tr>\n",
              "      <th>25%</th>\n",
              "      <td>8.250000</td>\n",
              "      <td>23.800000</td>\n",
              "      <td>4.920000</td>\n",
              "      <td>30.200000</td>\n",
              "      <td>3355.000000</td>\n",
              "      <td>1.810000</td>\n",
              "      <td>65.300000</td>\n",
              "      <td>1.795000</td>\n",
              "      <td>1330.000000</td>\n",
              "    </tr>\n",
              "    <tr>\n",
              "      <th>50%</th>\n",
              "      <td>19.300000</td>\n",
              "      <td>35.000000</td>\n",
              "      <td>6.320000</td>\n",
              "      <td>43.300000</td>\n",
              "      <td>9960.000000</td>\n",
              "      <td>5.390000</td>\n",
              "      <td>73.100000</td>\n",
              "      <td>2.410000</td>\n",
              "      <td>4660.000000</td>\n",
              "    </tr>\n",
              "    <tr>\n",
              "      <th>75%</th>\n",
              "      <td>62.100000</td>\n",
              "      <td>51.350000</td>\n",
              "      <td>8.600000</td>\n",
              "      <td>58.750000</td>\n",
              "      <td>22800.000000</td>\n",
              "      <td>10.750000</td>\n",
              "      <td>76.800000</td>\n",
              "      <td>3.880000</td>\n",
              "      <td>14050.000000</td>\n",
              "    </tr>\n",
              "    <tr>\n",
              "      <th>max</th>\n",
              "      <td>208.000000</td>\n",
              "      <td>200.000000</td>\n",
              "      <td>17.900000</td>\n",
              "      <td>174.000000</td>\n",
              "      <td>125000.000000</td>\n",
              "      <td>104.000000</td>\n",
              "      <td>82.800000</td>\n",
              "      <td>7.490000</td>\n",
              "      <td>105000.000000</td>\n",
              "    </tr>\n",
              "  </tbody>\n",
              "</table>\n",
              "</div>"
            ],
            "text/plain": [
              "       child_mort     exports      health     imports         income  \\\n",
              "count  167.000000  167.000000  167.000000  167.000000     167.000000   \n",
              "mean    38.270060   41.108976    6.815689   46.890215   17144.688623   \n",
              "std     40.328931   27.412010    2.746837   24.209589   19278.067698   \n",
              "min      2.600000    0.109000    1.810000    0.065900     609.000000   \n",
              "25%      8.250000   23.800000    4.920000   30.200000    3355.000000   \n",
              "50%     19.300000   35.000000    6.320000   43.300000    9960.000000   \n",
              "75%     62.100000   51.350000    8.600000   58.750000   22800.000000   \n",
              "max    208.000000  200.000000   17.900000  174.000000  125000.000000   \n",
              "\n",
              "        inflation  life_expec   total_fer           gdpp  \n",
              "count  167.000000  167.000000  167.000000     167.000000  \n",
              "mean     7.781832   70.555689    2.947964   12964.155689  \n",
              "std     10.570704    8.893172    1.513848   18328.704809  \n",
              "min     -4.210000   32.100000    1.150000     231.000000  \n",
              "25%      1.810000   65.300000    1.795000    1330.000000  \n",
              "50%      5.390000   73.100000    2.410000    4660.000000  \n",
              "75%     10.750000   76.800000    3.880000   14050.000000  \n",
              "max    104.000000   82.800000    7.490000  105000.000000  "
            ]
          },
          "metadata": {
            "tags": []
          },
          "execution_count": 157
        }
      ]
    },
    {
      "cell_type": "markdown",
      "metadata": {
        "_uuid": "c33bc746ae86deef0abcd05025b639af622e2ef7",
        "id": "feC6QOJ0eLQ1"
      },
      "source": [
        "### Data Cleaning"
      ]
    },
    {
      "cell_type": "code",
      "metadata": {
        "_uuid": "12e032bc8134f3f20193225decc93228fd30e7a3",
        "id": "traI4xm-eLQ2",
        "outputId": "76fcddf9-a123-4985-cebd-d224ca65da1a"
      },
      "source": [
        "data.isnull().sum()"
      ],
      "execution_count": null,
      "outputs": [
        {
          "output_type": "execute_result",
          "data": {
            "text/plain": [
              "country       0\n",
              "child_mort    0\n",
              "exports       0\n",
              "health        0\n",
              "imports       0\n",
              "income        0\n",
              "inflation     0\n",
              "life_expec    0\n",
              "total_fer     0\n",
              "gdpp          0\n",
              "dtype: int64"
            ]
          },
          "metadata": {
            "tags": []
          },
          "execution_count": 158
        }
      ]
    },
    {
      "cell_type": "markdown",
      "metadata": {
        "_uuid": "69f5c2a5e27b5aa217dc9f623602a3ddd99f8511",
        "id": "pAkIGRGXeLQ9"
      },
      "source": [
        "## Exploratory Data Analytics"
      ]
    },
    {
      "cell_type": "markdown",
      "metadata": {
        "_uuid": "96394dd009190675e3a61d528dbd4129aee7c955",
        "id": "OJv7kXu-eLQ-"
      },
      "source": [
        "####  We need to choose the countries that are in the direst need of aid. Hence, we need to identify those countries with  using some socio-economic and health factors that determine the overall development of the country."
      ]
    },
    {
      "cell_type": "markdown",
      "metadata": {
        "_uuid": "f7051be03e7052bfe69c0aa52e1cd835aed7d928",
        "id": "ylTcUd0BeLQ_"
      },
      "source": [
        "#### We will have a look on the lowest 10 countries for each factor."
      ]
    },
    {
      "cell_type": "code",
      "metadata": {
        "_uuid": "a81a2a850fdca271f7a3df71478e01da4c2b5555",
        "id": "xQy6hXeFeLRA",
        "outputId": "ffac4e33-1f22-4f10-e61d-3524351d83f1"
      },
      "source": [
        "fig, axs = plt.subplots(3,3,figsize = (15,15))\n",
        "\n",
        "# Child Mortality Rate : Death of children under 5 years of age per 1000 live births\n",
        "\n",
        "top10_child_mort = data[['country','child_mort']].sort_values('child_mort', ascending = False).head(10)\n",
        "plt1 = sns.barplot(x='country', y='child_mort', data= top10_child_mort, ax = axs[0,0])\n",
        "plt1.set(xlabel = '', ylabel= 'Child Mortality Rate')\n",
        "\n",
        "# Fertility Rate: The number of children that would be born to each woman if the current age-fertility rates remain the same\n",
        "top10_total_fer = data[['country','total_fer']].sort_values('total_fer', ascending = False).head(10)\n",
        "plt1 = sns.barplot(x='country', y='total_fer', data= top10_total_fer, ax = axs[0,1])\n",
        "plt1.set(xlabel = '', ylabel= 'Fertility Rate')\n",
        "\n",
        "# Life Expectancy: The average number of years a new born child would live if the current mortality patterns are to remain same\n",
        "\n",
        "bottom10_life_expec = data[['country','life_expec']].sort_values('life_expec', ascending = True).head(10)\n",
        "plt1 = sns.barplot(x='country', y='life_expec', data= bottom10_life_expec, ax = axs[0,2])\n",
        "plt1.set(xlabel = '', ylabel= 'Life Expectancy')\n",
        "\n",
        "# Health :Total health spending as %age of Total GDP.\n",
        "\n",
        "bottom10_health = data[['country','health']].sort_values('health', ascending = True).head(10)\n",
        "plt1 = sns.barplot(x='country', y='health', data= bottom10_health, ax = axs[1,0])\n",
        "plt1.set(xlabel = '', ylabel= 'Health')\n",
        "\n",
        "# The GDP per capita : Calculated as the Total GDP divided by the total population.\n",
        "\n",
        "bottom10_gdpp = data[['country','gdpp']].sort_values('gdpp', ascending = True).head(10)\n",
        "plt1 = sns.barplot(x='country', y='gdpp', data= bottom10_gdpp, ax = axs[1,1])\n",
        "plt1.set(xlabel = '', ylabel= 'GDP per capita')\n",
        "\n",
        "# Per capita Income : Net income per person\n",
        "\n",
        "bottom10_income = data[['country','income']].sort_values('income', ascending = True).head(10)\n",
        "plt1 = sns.barplot(x='country', y='income', data= bottom10_income, ax = axs[1,2])\n",
        "plt1.set(xlabel = '', ylabel= 'Per capita Income')\n",
        "\n",
        "\n",
        "# Inflation: The measurement of the annual growth rate of the Total GDP\n",
        "\n",
        "top10_inflation = data[['country','inflation']].sort_values('inflation', ascending = False).head(10)\n",
        "plt1 = sns.barplot(x='country', y='inflation', data= top10_inflation, ax = axs[2,0])\n",
        "plt1.set(xlabel = '', ylabel= 'Inflation')\n",
        "\n",
        "\n",
        "# Exports: Exports of goods and services. Given as %age of the Total GDP\n",
        "\n",
        "bottom10_exports = data[['country','exports']].sort_values('exports', ascending = True).head(10)\n",
        "plt1 = sns.barplot(x='country', y='exports', data= bottom10_exports, ax = axs[2,1])\n",
        "plt1.set(xlabel = '', ylabel= 'Exports')\n",
        "\n",
        "\n",
        "# Imports: Imports of goods and services. Given as %age of the Total GDP\n",
        "\n",
        "bottom10_imports = data[['country','imports']].sort_values('imports', ascending = True).head(10)\n",
        "plt1 = sns.barplot(x='country', y='imports', data= bottom10_imports, ax = axs[2,2])\n",
        "plt1.set(xlabel = '', ylabel= 'Imports')\n",
        "\n",
        "for ax in fig.axes:\n",
        "    plt.sca(ax)\n",
        "    plt.xticks(rotation = 90)\n",
        "    \n",
        "plt.tight_layout()\n",
        "plt.show()"
      ],
      "execution_count": null,
      "outputs": [
        {
          "output_type": "display_data",
          "data": {
            "image/png": "[encoded data removed]",
            "text/plain": [
              "<Figure size 1080x1080 with 9 Axes>"
            ]
          },
          "metadata": {
            "tags": [],
            "needs_background": "light"
          }
        }
      ]
    },
    {
      "cell_type": "code",
      "metadata": {
        "_uuid": "f3b31d7c25a90db6994563bfd08766bb0c8d52c5",
        "id": "AI8C38ZseLRF",
        "outputId": "97e9bda2-101e-491d-83f5-131401efb9a7"
      },
      "source": [
        "# Let's check the correlation coefficients to see which variables are highly correlated\n",
        "plt.figure(figsize = (16, 10))\n",
        "sns.heatmap(data.corr(), annot = True, cmap=\"YlGnBu\")\n",
        "plt.savefig('corrplot')\n",
        "plt.show()"
      ],
      "execution_count": null,
      "outputs": [
        {
          "output_type": "display_data",
          "data": {
            "image/png": "[encoded data removed]",
            "text/plain": [
              "<Figure size 1152x720 with 2 Axes>"
            ]
          },
          "metadata": {
            "tags": [],
            "needs_background": "light"
          }
        }
      ]
    },
    {
      "cell_type": "markdown",
      "metadata": {
        "_uuid": "3b69050d34f0dfc1142b96f6ab5862c51ba33e0e",
        "id": "s07RrvjleLRG"
      },
      "source": [
        "## Outlier Analysis"
      ]
    },
    {
      "cell_type": "code",
      "metadata": {
        "_uuid": "e760f853a3c02d5189e6333b496a265413d64315",
        "scrolled": false,
        "id": "CowEdAWSeLRH",
        "outputId": "38ea37ac-2935-4869-a315-eacf430f2cab"
      },
      "source": [
        "fig, axs = plt.subplots(3,3, figsize = (15,7.5))\n",
        "plt1 = sns.boxplot(data['child_mort'], ax = axs[0,0])\n",
        "plt2 = sns.boxplot(data['health'], ax = axs[0,1])\n",
        "plt3 = sns.boxplot(data['life_expec'], ax = axs[0,2])\n",
        "plt4 = sns.boxplot(data['total_fer'], ax = axs[1,0])\n",
        "plt5 = sns.boxplot(data['income'], ax = axs[1,1])\n",
        "plt6 = sns.boxplot(data['inflation'], ax = axs[1,2])\n",
        "plt7 = sns.boxplot(data['gdpp'], ax = axs[2,0])\n",
        "plt8 = sns.boxplot(data['imports'], ax = axs[2,1])\n",
        "plt9 = sns.boxplot(data['exports'], ax = axs[2,2])\n",
        "\n",
        "\n",
        "plt.tight_layout()\n",
        "plt.show()"
      ],
      "execution_count": null,
      "outputs": [
        {
          "output_type": "stream",
          "text": [
            "C:\\Users\\nanah\\anaconda3\\lib\\site-packages\\seaborn\\_decorators.py:36: FutureWarning: Pass the following variable as a keyword arg: x. From version 0.12, the only valid positional argument will be `data`, and passing other arguments without an explicit keyword will result in an error or misinterpretation.\n",
            "  warnings.warn(\n",
            "C:\\Users\\nanah\\anaconda3\\lib\\site-packages\\seaborn\\_decorators.py:36: FutureWarning: Pass the following variable as a keyword arg: x. From version 0.12, the only valid positional argument will be `data`, and passing other arguments without an explicit keyword will result in an error or misinterpretation.\n",
            "  warnings.warn(\n",
            "C:\\Users\\nanah\\anaconda3\\lib\\site-packages\\seaborn\\_decorators.py:36: FutureWarning: Pass the following variable as a keyword arg: x. From version 0.12, the only valid positional argument will be `data`, and passing other arguments without an explicit keyword will result in an error or misinterpretation.\n",
            "  warnings.warn(\n",
            "C:\\Users\\nanah\\anaconda3\\lib\\site-packages\\seaborn\\_decorators.py:36: FutureWarning: Pass the following variable as a keyword arg: x. From version 0.12, the only valid positional argument will be `data`, and passing other arguments without an explicit keyword will result in an error or misinterpretation.\n",
            "  warnings.warn(\n",
            "C:\\Users\\nanah\\anaconda3\\lib\\site-packages\\seaborn\\_decorators.py:36: FutureWarning: Pass the following variable as a keyword arg: x. From version 0.12, the only valid positional argument will be `data`, and passing other arguments without an explicit keyword will result in an error or misinterpretation.\n",
            "  warnings.warn(\n",
            "C:\\Users\\nanah\\anaconda3\\lib\\site-packages\\seaborn\\_decorators.py:36: FutureWarning: Pass the following variable as a keyword arg: x. From version 0.12, the only valid positional argument will be `data`, and passing other arguments without an explicit keyword will result in an error or misinterpretation.\n",
            "  warnings.warn(\n",
            "C:\\Users\\nanah\\anaconda3\\lib\\site-packages\\seaborn\\_decorators.py:36: FutureWarning: Pass the following variable as a keyword arg: x. From version 0.12, the only valid positional argument will be `data`, and passing other arguments without an explicit keyword will result in an error or misinterpretation.\n",
            "  warnings.warn(\n",
            "C:\\Users\\nanah\\anaconda3\\lib\\site-packages\\seaborn\\_decorators.py:36: FutureWarning: Pass the following variable as a keyword arg: x. From version 0.12, the only valid positional argument will be `data`, and passing other arguments without an explicit keyword will result in an error or misinterpretation.\n",
            "  warnings.warn(\n",
            "C:\\Users\\nanah\\anaconda3\\lib\\site-packages\\seaborn\\_decorators.py:36: FutureWarning: Pass the following variable as a keyword arg: x. From version 0.12, the only valid positional argument will be `data`, and passing other arguments without an explicit keyword will result in an error or misinterpretation.\n",
            "  warnings.warn(\n"
          ],
          "name": "stderr"
        },
        {
          "output_type": "display_data",
          "data": {
            "image/png": "[encoded data removed]",
            "text/plain": [
              "<Figure size 1080x540 with 9 Axes>"
            ]
          },
          "metadata": {
            "tags": [],
            "needs_background": "light"
          }
        }
      ]
    },
    {
      "cell_type": "code",
      "metadata": {
        "id": "CBSacTkTeLRI"
      },
      "source": [
        "##Copy Data\n",
        "data2=data.copy()"
      ],
      "execution_count": null,
      "outputs": []
    },
    {
      "cell_type": "markdown",
      "metadata": {
        "_uuid": "acc553c4f5b8595734658569e93e03e8dbf27fe0",
        "id": "kzG638bieLRK"
      },
      "source": [
        "### Scaling the data"
      ]
    },
    {
      "cell_type": "code",
      "metadata": {
        "_uuid": "21fa541529da34ea910d3938da463cd22aa314a6",
        "id": "vMiGTybIeLRK"
      },
      "source": [
        "# Import the StandardScaler()\n",
        "from sklearn.preprocessing import StandardScaler\n",
        "\n",
        "# Create a scaling object\n",
        "scaler = StandardScaler()\n",
        "\n",
        "# Create a list of the variables that you need to scale\n",
        "varlist = ['child_mort', 'exports', 'health', 'imports', 'income', 'inflation', 'life_expec', 'total_fer', 'gdpp']\n",
        "# Scale these variables using 'fit_transform'\n",
        "data[varlist] = scaler.fit_transform(data[varlist])"
      ],
      "execution_count": null,
      "outputs": []
    },
    {
      "cell_type": "markdown",
      "metadata": {
        "_uuid": "65fe62359cd2bebc9775a52f447c10899fe39e34",
        "id": "slekzMsveLRL"
      },
      "source": [
        "## PCA on the Data"
      ]
    },
    {
      "cell_type": "code",
      "metadata": {
        "_uuid": "34350c18f448c448b526bcc1560cfdc55f3f21a5",
        "id": "du_Y_k38eLRL"
      },
      "source": [
        "# Putting feature variable to X\n",
        "X = data.drop(['country'],axis=1)\n",
        "\n",
        "# Putting COUNTRY\n",
        "country = data['country']"
      ],
      "execution_count": null,
      "outputs": []
    },
    {
      "cell_type": "code",
      "metadata": {
        "_uuid": "54532eae3f85b6ce9b44fe21edf1cc0b9a97959e",
        "id": "8qsx6I-YeLRN"
      },
      "source": [
        "#Improting the PCA module\n",
        "from sklearn.decomposition import PCA\n",
        "pca = PCA(random_state=42)"
      ],
      "execution_count": null,
      "outputs": []
    },
    {
      "cell_type": "code",
      "metadata": {
        "_uuid": "7f61c7129ca042b7651370ee9b6ecf91cee25a38",
        "id": "10ph1DAQeLRN",
        "outputId": "d301a1f9-f4fd-484e-aa87-b153792bf0ef"
      },
      "source": [
        "#Doing the PCA on the train data\n",
        "pca.fit(X)"
      ],
      "execution_count": null,
      "outputs": [
        {
          "output_type": "execute_result",
          "data": {
            "text/plain": [
              "PCA(random_state=42)"
            ]
          },
          "metadata": {
            "tags": []
          },
          "execution_count": 130
        }
      ]
    },
    {
      "cell_type": "markdown",
      "metadata": {
        "_uuid": "901972338245a50849b4c57af0da4db67843598a",
        "id": "qf7wJgo3eLRP"
      },
      "source": [
        "#### PCA Component or Weight"
      ]
    },
    {
      "cell_type": "code",
      "metadata": {
        "_uuid": "f85fa6763f047b9c2cbfd527168b8e5750f95058",
        "id": "Zw4HZvYIeLRQ",
        "outputId": "c6b04841-d8eb-4505-c6a8-579e919d89b8"
      },
      "source": [
        "pca.components_"
      ],
      "execution_count": null,
      "outputs": [
        {
          "output_type": "execute_result",
          "data": {
            "text/plain": [
              "array([[-0.41951945,  0.28389698,  0.15083782,  0.16148244,  0.39844111,\n",
              "        -0.19317293,  0.42583938, -0.40372896,  0.39264482],\n",
              "       [ 0.19288394,  0.61316349, -0.24308678,  0.67182064,  0.02253553,\n",
              "        -0.00840447, -0.22270674,  0.15523311, -0.0460224 ],\n",
              "       [-0.02954353,  0.14476069, -0.59663237, -0.29992674,  0.3015475 ,\n",
              "         0.64251951,  0.11391854,  0.01954925,  0.12297749],\n",
              "       [ 0.37065326,  0.00309102,  0.4618975 , -0.07190746,  0.39215904,\n",
              "         0.15044176, -0.20379723,  0.37830365,  0.53199457],\n",
              "       [-0.16896968,  0.05761584,  0.51800037,  0.25537642, -0.2471496 ,\n",
              "         0.7148691 ,  0.1082198 , -0.13526221, -0.18016662],\n",
              "       [ 0.20062815, -0.05933283,  0.00727646, -0.03003154,  0.16034699,\n",
              "         0.06628537, -0.60112652, -0.75068875,  0.01677876],\n",
              "       [-0.07948854, -0.70730269, -0.24983051,  0.59218953,  0.09556237,\n",
              "         0.10463252,  0.01848639,  0.02882643,  0.24299776],\n",
              "       [-0.68274306, -0.01419742,  0.07249683, -0.02894642,  0.35262369,\n",
              "        -0.01153775, -0.50466425,  0.29335267, -0.24969636],\n",
              "       [ 0.3275418 , -0.12308207,  0.11308797,  0.09903717,  0.61298247,\n",
              "        -0.02523614,  0.29403981, -0.02633585, -0.62564572]])"
            ]
          },
          "metadata": {
            "tags": []
          },
          "execution_count": 131
        }
      ]
    },
    {
      "cell_type": "code",
      "metadata": {
        "_uuid": "def2b425a1df285eed3fa907d08e6db05dd2a32b",
        "id": "SRmvp884eLRR",
        "outputId": "bd8f95ee-ee65-47b3-e1ff-b54763f4deb4"
      },
      "source": [
        "colnames = list(X.columns)\n",
        "pcs_df = pd.DataFrame({'PC1':pca.components_[0],'PC2':pca.components_[1], 'Feature':colnames})\n",
        "pcs_df"
      ],
      "execution_count": null,
      "outputs": [
        {
          "output_type": "execute_result",
          "data": {
            "text/html": [
              "<div>\n",
              "<style scoped>\n",
              "    .dataframe tbody tr th:only-of-type {\n",
              "        vertical-align: middle;\n",
              "    }\n",
              "\n",
              "    .dataframe tbody tr th {\n",
              "        vertical-align: top;\n",
              "    }\n",
              "\n",
              "    .dataframe thead th {\n",
              "        text-align: right;\n",
              "    }\n",
              "</style>\n",
              "<table border=\"1\" class=\"dataframe\">\n",
              "  <thead>\n",
              "    <tr style=\"text-align: right;\">\n",
              "      <th></th>\n",
              "      <th>PC1</th>\n",
              "      <th>PC2</th>\n",
              "      <th>Feature</th>\n",
              "    </tr>\n",
              "  </thead>\n",
              "  <tbody>\n",
              "    <tr>\n",
              "      <th>0</th>\n",
              "      <td>-0.419519</td>\n",
              "      <td>0.192884</td>\n",
              "      <td>child_mort</td>\n",
              "    </tr>\n",
              "    <tr>\n",
              "      <th>1</th>\n",
              "      <td>0.283897</td>\n",
              "      <td>0.613163</td>\n",
              "      <td>exports</td>\n",
              "    </tr>\n",
              "    <tr>\n",
              "      <th>2</th>\n",
              "      <td>0.150838</td>\n",
              "      <td>-0.243087</td>\n",
              "      <td>health</td>\n",
              "    </tr>\n",
              "    <tr>\n",
              "      <th>3</th>\n",
              "      <td>0.161482</td>\n",
              "      <td>0.671821</td>\n",
              "      <td>imports</td>\n",
              "    </tr>\n",
              "    <tr>\n",
              "      <th>4</th>\n",
              "      <td>0.398441</td>\n",
              "      <td>0.022536</td>\n",
              "      <td>income</td>\n",
              "    </tr>\n",
              "    <tr>\n",
              "      <th>5</th>\n",
              "      <td>-0.193173</td>\n",
              "      <td>-0.008404</td>\n",
              "      <td>inflation</td>\n",
              "    </tr>\n",
              "    <tr>\n",
              "      <th>6</th>\n",
              "      <td>0.425839</td>\n",
              "      <td>-0.222707</td>\n",
              "      <td>life_expec</td>\n",
              "    </tr>\n",
              "    <tr>\n",
              "      <th>7</th>\n",
              "      <td>-0.403729</td>\n",
              "      <td>0.155233</td>\n",
              "      <td>total_fer</td>\n",
              "    </tr>\n",
              "    <tr>\n",
              "      <th>8</th>\n",
              "      <td>0.392645</td>\n",
              "      <td>-0.046022</td>\n",
              "      <td>gdpp</td>\n",
              "    </tr>\n",
              "  </tbody>\n",
              "</table>\n",
              "</div>"
            ],
            "text/plain": [
              "        PC1       PC2     Feature\n",
              "0 -0.419519  0.192884  child_mort\n",
              "1  0.283897  0.613163     exports\n",
              "2  0.150838 -0.243087      health\n",
              "3  0.161482  0.671821     imports\n",
              "4  0.398441  0.022536      income\n",
              "5 -0.193173 -0.008404   inflation\n",
              "6  0.425839 -0.222707  life_expec\n",
              "7 -0.403729  0.155233   total_fer\n",
              "8  0.392645 -0.046022        gdpp"
            ]
          },
          "metadata": {
            "tags": []
          },
          "execution_count": 132
        }
      ]
    },
    {
      "cell_type": "markdown",
      "metadata": {
        "_uuid": "4a965755f20bba73ca58d114f913e3508b6430ce",
        "id": "fTggUH3XeLRS"
      },
      "source": [
        "### Choose Number of PC\n"
      ]
    },
    {
      "cell_type": "code",
      "metadata": {
        "id": "81apgiQGeLRT",
        "outputId": "7de4f01a-655e-43f9-9877-0de7f80e18ff"
      },
      "source": [
        "#Eigenvalue\n",
        "pca.explained_variance_"
      ],
      "execution_count": null,
      "outputs": [
        {
          "output_type": "execute_result",
          "data": {
            "text/plain": [
              "array([4.16057017, 1.55566165, 1.1774338 , 1.00077724, 0.66459866,\n",
              "       0.224928  , 0.1141221 , 0.08884738, 0.06727787])"
            ]
          },
          "metadata": {
            "tags": []
          },
          "execution_count": 133
        }
      ]
    },
    {
      "cell_type": "code",
      "metadata": {
        "_uuid": "3e6ae2663fa2c473c48f0b0724585a474806cfa8",
        "id": "-oD5fFxJeLRV",
        "outputId": "79c96800-b115-45e9-f684-20cc730aafc1"
      },
      "source": [
        "#Proportion\n",
        "pca.explained_variance_ratio_"
      ],
      "execution_count": null,
      "outputs": [
        {
          "output_type": "execute_result",
          "data": {
            "text/plain": [
              "array([0.4595174 , 0.17181626, 0.13004259, 0.11053162, 0.07340211,\n",
              "       0.02484235, 0.0126043 , 0.00981282, 0.00743056])"
            ]
          },
          "metadata": {
            "tags": []
          },
          "execution_count": 134
        }
      ]
    },
    {
      "cell_type": "code",
      "metadata": {
        "_uuid": "4191101cb5212016c2205b4a127216b35583492b",
        "id": "Sr6Rm7BseLRW",
        "outputId": "5bb38579-0f45-4fc4-c25b-7eabbd980f11"
      },
      "source": [
        "#Making the screeplot - plotting the cumulative variance against the number of components\n",
        "plt.figure(figsize = (12,8))\n",
        "plt.plot(np.cumsum(pca.explained_variance_ratio_))\n",
        "plt.xlabel('number of components')\n",
        "plt.ylabel('cumulative explained variance')\n",
        "plt.savefig('pca_no')\n",
        "plt.show()"
      ],
      "execution_count": null,
      "outputs": [
        {
          "output_type": "display_data",
          "data": {
            "image/png": "[encoded data removed]",
            "text/plain": [
              "<Figure size 864x576 with 1 Axes>"
            ]
          },
          "metadata": {
            "tags": [],
            "needs_background": "light"
          }
        }
      ]
    },
    {
      "cell_type": "markdown",
      "metadata": {
        "_uuid": "c77c5aa60728b893ab2b5f46948f956ea187250a",
        "id": "M9fOASnCeLRY"
      },
      "source": [
        "#### Looks like 4 components are enough to describe 95% of the variance in the dataset\n",
        "We'll choose 4 components for our modeling\n"
      ]
    },
    {
      "cell_type": "code",
      "metadata": {
        "_uuid": "3a20b76b3d03fb210c1afce6bfca99b14d791d68",
        "id": "_flTarkDeLRZ"
      },
      "source": [
        "#Using incremental PCA for efficiency - saves a lot of time on larger datasets\n",
        "pca_final= PCA(n_components=4,random_state=42)"
      ],
      "execution_count": null,
      "outputs": []
    },
    {
      "cell_type": "markdown",
      "metadata": {
        "_uuid": "43a39d0d155704639ac04a26ffa3b182c929c6c4",
        "id": "pAufcejXeLRb"
      },
      "source": [
        "#### Basis transformation - getting the data onto our PCs"
      ]
    },
    {
      "cell_type": "code",
      "metadata": {
        "_uuid": "1b0fbd602bb865ee4ff36f4a7d95f51e848012f4",
        "id": "j1ml5I0-eLRb",
        "outputId": "2d8a9a25-6265-4f81-b3ee-13f851e07bf6"
      },
      "source": [
        "df_pca = pca_final.fit_transform(X)"
      ],
      "execution_count": null,
      "outputs": [
        {
          "output_type": "execute_result",
          "data": {
            "text/plain": [
              "(167, 4)"
            ]
          },
          "metadata": {
            "tags": []
          },
          "execution_count": 109
        }
      ]
    },
    {
      "cell_type": "code",
      "metadata": {
        "_uuid": "537fb8946688a8c6844c8bc509e15b31ccca7155",
        "id": "z1q9jzVoeLRc",
        "outputId": "145ae130-eaa0-45ae-e772-8b72b55ebb0f"
      },
      "source": [
        "df_pca = pd.DataFrame(df_pca)\n",
        "df_pca.head()"
      ],
      "execution_count": null,
      "outputs": [
        {
          "output_type": "execute_result",
          "data": {
            "text/html": [
              "<div>\n",
              "<style scoped>\n",
              "    .dataframe tbody tr th:only-of-type {\n",
              "        vertical-align: middle;\n",
              "    }\n",
              "\n",
              "    .dataframe tbody tr th {\n",
              "        vertical-align: top;\n",
              "    }\n",
              "\n",
              "    .dataframe thead th {\n",
              "        text-align: right;\n",
              "    }\n",
              "</style>\n",
              "<table border=\"1\" class=\"dataframe\">\n",
              "  <thead>\n",
              "    <tr style=\"text-align: right;\">\n",
              "      <th></th>\n",
              "      <th>0</th>\n",
              "      <th>1</th>\n",
              "      <th>2</th>\n",
              "      <th>3</th>\n",
              "    </tr>\n",
              "  </thead>\n",
              "  <tbody>\n",
              "    <tr>\n",
              "      <th>0</th>\n",
              "      <td>-2.913025</td>\n",
              "      <td>0.095621</td>\n",
              "      <td>-0.718118</td>\n",
              "      <td>1.005255</td>\n",
              "    </tr>\n",
              "    <tr>\n",
              "      <th>1</th>\n",
              "      <td>0.429911</td>\n",
              "      <td>-0.588156</td>\n",
              "      <td>-0.333486</td>\n",
              "      <td>-1.161059</td>\n",
              "    </tr>\n",
              "    <tr>\n",
              "      <th>2</th>\n",
              "      <td>-0.285225</td>\n",
              "      <td>-0.455174</td>\n",
              "      <td>1.221505</td>\n",
              "      <td>-0.868115</td>\n",
              "    </tr>\n",
              "    <tr>\n",
              "      <th>3</th>\n",
              "      <td>-2.932423</td>\n",
              "      <td>1.695555</td>\n",
              "      <td>1.525044</td>\n",
              "      <td>0.839625</td>\n",
              "    </tr>\n",
              "    <tr>\n",
              "      <th>4</th>\n",
              "      <td>1.033576</td>\n",
              "      <td>0.136659</td>\n",
              "      <td>-0.225721</td>\n",
              "      <td>-0.847063</td>\n",
              "    </tr>\n",
              "  </tbody>\n",
              "</table>\n",
              "</div>"
            ],
            "text/plain": [
              "          0         1         2         3\n",
              "0 -2.913025  0.095621 -0.718118  1.005255\n",
              "1  0.429911 -0.588156 -0.333486 -1.161059\n",
              "2 -0.285225 -0.455174  1.221505 -0.868115\n",
              "3 -2.932423  1.695555  1.525044  0.839625\n",
              "4  1.033576  0.136659 -0.225721 -0.847063"
            ]
          },
          "metadata": {
            "tags": []
          },
          "execution_count": 110
        }
      ]
    },
    {
      "cell_type": "markdown",
      "metadata": {
        "_uuid": "c9bb5f2d2404f1314f56024483dbc6c0dcb3cfc8",
        "id": "Ash8Lz74eLRd"
      },
      "source": [
        "#### Creating correlation matrix for the principal components - we expect little to no correlation"
      ]
    },
    {
      "cell_type": "code",
      "metadata": {
        "_uuid": "b199b9ee6db8cf1d972f74299756da1ee16b7864",
        "scrolled": true,
        "id": "znR23E9NeLRd",
        "outputId": "33424e36-698d-4ae7-e6f6-08a7d132fcf0"
      },
      "source": [
        "#plotting the correlation matrix\n",
        "%matplotlib inline\n",
        "plt.figure(figsize = (10,5))\n",
        "sns.heatmap(df_pca.corr(),annot = True)"
      ],
      "execution_count": null,
      "outputs": [
        {
          "output_type": "execute_result",
          "data": {
            "text/plain": [
              "<AxesSubplot:>"
            ]
          },
          "metadata": {
            "tags": []
          },
          "execution_count": 103
        },
        {
          "output_type": "display_data",
          "data": {
            "image/png": "[encoded data removed]",
            "text/plain": [
              "<Figure size 720x360 with 2 Axes>"
            ]
          },
          "metadata": {
            "tags": [],
            "needs_background": "light"
          }
        }
      ]
    },
    {
      "cell_type": "markdown",
      "metadata": {
        "_uuid": "ddbbe92969fbaad061ca3b9e98ee8c99af88a965",
        "id": "8w7HL3v_eLRd"
      },
      "source": [
        "## Hierarchical clustering"
      ]
    },
    {
      "cell_type": "code",
      "metadata": {
        "id": "V-DosD7feLRe",
        "outputId": "805045b2-827a-4fe9-8ce4-b8e07b64a07c"
      },
      "source": [
        "plt.figure(figsize=(15,10))\n",
        "cluster=linkage(df_pca, method = 'ward',metric='euclidean')\n",
        "dendrogram = dendrogram(cluster)\n",
        "plt.title('Dendrogam', fontsize = 20)\n",
        "plt.xlabel('Country')\n",
        "plt.ylabel('Euclidean Distance')\n",
        "plt.show()"
      ],
      "execution_count": null,
      "outputs": [
        {
          "output_type": "display_data",
          "data": {
            "image/png": "[encoded data removed]",
            "text/plain": [
              "<Figure size 1080x720 with 1 Axes>"
            ]
          },
          "metadata": {
            "tags": [],
            "needs_background": "light"
          }
        }
      ]
    },
    {
      "cell_type": "code",
      "metadata": {
        "_uuid": "4f30a46e355fcf3306275b82348c94432c9edffd",
        "id": "AGi15yP6eLRe"
      },
      "source": [
        "# Looking at the dedrogram it is observed that cutting it at n = 2 is most optimum."
      ],
      "execution_count": null,
      "outputs": []
    },
    {
      "cell_type": "code",
      "metadata": {
        "_uuid": "d8923517c1e75d23667dd5e3e1bc018cbc9fdadc",
        "id": "mtXhsmU0eLRf"
      },
      "source": [
        "#Modeling Hierarchical Clustering\n",
        "from sklearn.cluster import AgglomerativeClustering\n",
        "\n",
        "hc = AgglomerativeClustering(n_clusters = 2, affinity = 'euclidean', linkage = 'ward')\n",
        "cluster_hc = hc.fit_predict(df_pca)"
      ],
      "execution_count": null,
      "outputs": []
    },
    {
      "cell_type": "code",
      "metadata": {
        "id": "NfAyc5XVeLRf"
      },
      "source": [
        "#Add cluster result to Dataframe\n",
        "df_pca['cluster']=cluster_hc"
      ],
      "execution_count": null,
      "outputs": []
    },
    {
      "cell_type": "code",
      "metadata": {
        "_uuid": "95de15a0d4a7876c5e4672aec4c8de8deeaf67a2",
        "id": "piG8gOPeeLRg",
        "outputId": "f132d256-58f5-45bf-a750-099a5fd0fe90"
      },
      "source": [
        "#Merge Country and Cluster\n",
        "pca_cluster_hc = pd.concat([data['country'],df_pca['cluster']], axis=1, join='outer')\n",
        "pca_cluster_hc.head()"
      ],
      "execution_count": null,
      "outputs": [
        {
          "output_type": "execute_result",
          "data": {
            "text/html": [
              "<div>\n",
              "<style scoped>\n",
              "    .dataframe tbody tr th:only-of-type {\n",
              "        vertical-align: middle;\n",
              "    }\n",
              "\n",
              "    .dataframe tbody tr th {\n",
              "        vertical-align: top;\n",
              "    }\n",
              "\n",
              "    .dataframe thead th {\n",
              "        text-align: right;\n",
              "    }\n",
              "</style>\n",
              "<table border=\"1\" class=\"dataframe\">\n",
              "  <thead>\n",
              "    <tr style=\"text-align: right;\">\n",
              "      <th></th>\n",
              "      <th>country</th>\n",
              "      <th>cluster</th>\n",
              "    </tr>\n",
              "  </thead>\n",
              "  <tbody>\n",
              "    <tr>\n",
              "      <th>0</th>\n",
              "      <td>Afghanistan</td>\n",
              "      <td>1</td>\n",
              "    </tr>\n",
              "    <tr>\n",
              "      <th>1</th>\n",
              "      <td>Albania</td>\n",
              "      <td>0</td>\n",
              "    </tr>\n",
              "    <tr>\n",
              "      <th>2</th>\n",
              "      <td>Algeria</td>\n",
              "      <td>1</td>\n",
              "    </tr>\n",
              "    <tr>\n",
              "      <th>3</th>\n",
              "      <td>Angola</td>\n",
              "      <td>1</td>\n",
              "    </tr>\n",
              "    <tr>\n",
              "      <th>4</th>\n",
              "      <td>Antigua and Barbuda</td>\n",
              "      <td>0</td>\n",
              "    </tr>\n",
              "  </tbody>\n",
              "</table>\n",
              "</div>"
            ],
            "text/plain": [
              "               country  cluster\n",
              "0          Afghanistan        1\n",
              "1              Albania        0\n",
              "2              Algeria        1\n",
              "3               Angola        1\n",
              "4  Antigua and Barbuda        0"
            ]
          },
          "metadata": {
            "tags": []
          },
          "execution_count": 159
        }
      ]
    },
    {
      "cell_type": "code",
      "metadata": {
        "_uuid": "d1595605ccb3aeab2c16eb905099b8aa376ab7ee",
        "id": "xEcZj6O6eLRj",
        "outputId": "27cf78d9-045f-46e5-c13c-a4605883a896"
      },
      "source": [
        "#Merge to Original Data\n",
        "clustered_data_hc = pca_cluster_hc.merge(data2, on = 'country')\n",
        "clustered_data_hc.head()"
      ],
      "execution_count": null,
      "outputs": [
        {
          "output_type": "execute_result",
          "data": {
            "text/html": [
              "<div>\n",
              "<style scoped>\n",
              "    .dataframe tbody tr th:only-of-type {\n",
              "        vertical-align: middle;\n",
              "    }\n",
              "\n",
              "    .dataframe tbody tr th {\n",
              "        vertical-align: top;\n",
              "    }\n",
              "\n",
              "    .dataframe thead th {\n",
              "        text-align: right;\n",
              "    }\n",
              "</style>\n",
              "<table border=\"1\" class=\"dataframe\">\n",
              "  <thead>\n",
              "    <tr style=\"text-align: right;\">\n",
              "      <th></th>\n",
              "      <th>country</th>\n",
              "      <th>cluster</th>\n",
              "      <th>child_mort</th>\n",
              "      <th>exports</th>\n",
              "      <th>health</th>\n",
              "      <th>imports</th>\n",
              "      <th>income</th>\n",
              "      <th>inflation</th>\n",
              "      <th>life_expec</th>\n",
              "      <th>total_fer</th>\n",
              "      <th>gdpp</th>\n",
              "    </tr>\n",
              "  </thead>\n",
              "  <tbody>\n",
              "    <tr>\n",
              "      <th>0</th>\n",
              "      <td>Afghanistan</td>\n",
              "      <td>1</td>\n",
              "      <td>90.2</td>\n",
              "      <td>10.0</td>\n",
              "      <td>7.58</td>\n",
              "      <td>44.9</td>\n",
              "      <td>1610</td>\n",
              "      <td>9.44</td>\n",
              "      <td>56.2</td>\n",
              "      <td>5.82</td>\n",
              "      <td>553</td>\n",
              "    </tr>\n",
              "    <tr>\n",
              "      <th>1</th>\n",
              "      <td>Albania</td>\n",
              "      <td>0</td>\n",
              "      <td>16.6</td>\n",
              "      <td>28.0</td>\n",
              "      <td>6.55</td>\n",
              "      <td>48.6</td>\n",
              "      <td>9930</td>\n",
              "      <td>4.49</td>\n",
              "      <td>76.3</td>\n",
              "      <td>1.65</td>\n",
              "      <td>4090</td>\n",
              "    </tr>\n",
              "    <tr>\n",
              "      <th>2</th>\n",
              "      <td>Algeria</td>\n",
              "      <td>1</td>\n",
              "      <td>27.3</td>\n",
              "      <td>38.4</td>\n",
              "      <td>4.17</td>\n",
              "      <td>31.4</td>\n",
              "      <td>12900</td>\n",
              "      <td>16.10</td>\n",
              "      <td>76.5</td>\n",
              "      <td>2.89</td>\n",
              "      <td>4460</td>\n",
              "    </tr>\n",
              "    <tr>\n",
              "      <th>3</th>\n",
              "      <td>Angola</td>\n",
              "      <td>1</td>\n",
              "      <td>119.0</td>\n",
              "      <td>62.3</td>\n",
              "      <td>2.85</td>\n",
              "      <td>42.9</td>\n",
              "      <td>5900</td>\n",
              "      <td>22.40</td>\n",
              "      <td>60.1</td>\n",
              "      <td>6.16</td>\n",
              "      <td>3530</td>\n",
              "    </tr>\n",
              "    <tr>\n",
              "      <th>4</th>\n",
              "      <td>Antigua and Barbuda</td>\n",
              "      <td>0</td>\n",
              "      <td>10.3</td>\n",
              "      <td>45.5</td>\n",
              "      <td>6.03</td>\n",
              "      <td>58.9</td>\n",
              "      <td>19100</td>\n",
              "      <td>1.44</td>\n",
              "      <td>76.8</td>\n",
              "      <td>2.13</td>\n",
              "      <td>12200</td>\n",
              "    </tr>\n",
              "  </tbody>\n",
              "</table>\n",
              "</div>"
            ],
            "text/plain": [
              "               country  cluster  child_mort  exports  health  imports  income  \\\n",
              "0          Afghanistan        1        90.2     10.0    7.58     44.9    1610   \n",
              "1              Albania        0        16.6     28.0    6.55     48.6    9930   \n",
              "2              Algeria        1        27.3     38.4    4.17     31.4   12900   \n",
              "3               Angola        1       119.0     62.3    2.85     42.9    5900   \n",
              "4  Antigua and Barbuda        0        10.3     45.5    6.03     58.9   19100   \n",
              "\n",
              "   inflation  life_expec  total_fer   gdpp  \n",
              "0       9.44        56.2       5.82    553  \n",
              "1       4.49        76.3       1.65   4090  \n",
              "2      16.10        76.5       2.89   4460  \n",
              "3      22.40        60.1       6.16   3530  \n",
              "4       1.44        76.8       2.13  12200  "
            ]
          },
          "metadata": {
            "tags": []
          },
          "execution_count": 160
        }
      ]
    },
    {
      "cell_type": "code",
      "metadata": {
        "_uuid": "ff3f01287d309770cca26f3db87b7c07430fb298",
        "id": "O7hNZJxOeLRk",
        "outputId": "5ce6aba5-a363-4d14-9e76-a9bb1d7e7e32"
      },
      "source": [
        "#See Characteristic of Cluster in each variables\n",
        "hasil=clustered_data_hc.groupby(['cluster']).agg({\"child_mort\":\"mean\",\"exports\":\"mean\",\"health\":\"mean\",\n",
        "                                                 \"imports\":\"mean\",\"income\":\"mean\",\"inflation\":\"mean\",\n",
        "                                                 \"life_expec\":\"mean\",\"total_fer\":\"mean\",\"gdpp\":\"mean\"}).reset_index()\n",
        "hasil"
      ],
      "execution_count": null,
      "outputs": [
        {
          "output_type": "execute_result",
          "data": {
            "text/html": [
              "<div>\n",
              "<style scoped>\n",
              "    .dataframe tbody tr th:only-of-type {\n",
              "        vertical-align: middle;\n",
              "    }\n",
              "\n",
              "    .dataframe tbody tr th {\n",
              "        vertical-align: top;\n",
              "    }\n",
              "\n",
              "    .dataframe thead th {\n",
              "        text-align: right;\n",
              "    }\n",
              "</style>\n",
              "<table border=\"1\" class=\"dataframe\">\n",
              "  <thead>\n",
              "    <tr style=\"text-align: right;\">\n",
              "      <th></th>\n",
              "      <th>cluster</th>\n",
              "      <th>child_mort</th>\n",
              "      <th>exports</th>\n",
              "      <th>health</th>\n",
              "      <th>imports</th>\n",
              "      <th>income</th>\n",
              "      <th>inflation</th>\n",
              "      <th>life_expec</th>\n",
              "      <th>total_fer</th>\n",
              "      <th>gdpp</th>\n",
              "    </tr>\n",
              "  </thead>\n",
              "  <tbody>\n",
              "    <tr>\n",
              "      <th>0</th>\n",
              "      <td>0</td>\n",
              "      <td>13.317172</td>\n",
              "      <td>49.511111</td>\n",
              "      <td>7.338384</td>\n",
              "      <td>51.992929</td>\n",
              "      <td>25086.565657</td>\n",
              "      <td>4.142131</td>\n",
              "      <td>76.093939</td>\n",
              "      <td>2.030101</td>\n",
              "      <td>20091.171717</td>\n",
              "    </tr>\n",
              "    <tr>\n",
              "      <th>1</th>\n",
              "      <td>1</td>\n",
              "      <td>74.598529</td>\n",
              "      <td>28.876456</td>\n",
              "      <td>6.054706</td>\n",
              "      <td>39.461263</td>\n",
              "      <td>5582.250000</td>\n",
              "      <td>13.080809</td>\n",
              "      <td>62.492647</td>\n",
              "      <td>4.284265</td>\n",
              "      <td>2588.058824</td>\n",
              "    </tr>\n",
              "  </tbody>\n",
              "</table>\n",
              "</div>"
            ],
            "text/plain": [
              "   cluster  child_mort    exports    health    imports        income  \\\n",
              "0        0   13.317172  49.511111  7.338384  51.992929  25086.565657   \n",
              "1        1   74.598529  28.876456  6.054706  39.461263   5582.250000   \n",
              "\n",
              "   inflation  life_expec  total_fer          gdpp  \n",
              "0   4.142131   76.093939   2.030101  20091.171717  \n",
              "1  13.080809   62.492647   4.284265   2588.058824  "
            ]
          },
          "metadata": {
            "tags": []
          },
          "execution_count": 147
        }
      ]
    },
    {
      "cell_type": "code",
      "metadata": {
        "_uuid": "ebe6d01f0094d5a889b95f8879557be4c06fc5ec",
        "id": "LCfVoHyZeLRl",
        "outputId": "a74feeda-8640-46e3-9ce1-d9e19437502d"
      },
      "source": [
        "fig, axs = plt.subplots(3,3,figsize = (15,15))\n",
        "\n",
        "sns.barplot(x=hasil.cluster, y=hasil.child_mort, ax = axs[0,0])\n",
        "sns.barplot(x=hasil.cluster, y=hasil.exports, ax = axs[0,1])\n",
        "sns.barplot(x=hasil.cluster, y=hasil.health, ax = axs[0,2])\n",
        "sns.barplot(x=hasil.cluster, y=hasil.imports, ax = axs[1,0])\n",
        "sns.barplot(x=hasil.cluster, y=hasil.income, ax = axs[1,1])\n",
        "sns.barplot(x=hasil.cluster, y=hasil.life_expec, ax = axs[1,2])\n",
        "sns.barplot(x=hasil.cluster, y=hasil.inflation, ax = axs[2,0])\n",
        "sns.barplot(x=hasil.cluster, y=hasil.total_fer, ax = axs[2,1])\n",
        "sns.barplot(x=hasil.cluster, y=hasil.gdpp, ax = axs[2,2])\n",
        "plt.tight_layout()"
      ],
      "execution_count": null,
      "outputs": [
        {
          "output_type": "display_data",
          "data": {
            "image/png": "[encoded data removed]",
            "text/plain": [
              "<Figure size 1080x1080 with 9 Axes>"
            ]
          },
          "metadata": {
            "tags": [],
            "needs_background": "light"
          }
        }
      ]
    },
    {
      "cell_type": "code",
      "metadata": {
        "_uuid": "0fc67c8c77eca102a3baf75969905b9dbc4a99a7",
        "id": "3jcrz5jGeLRt",
        "outputId": "a0e6eb23-1fe9-4f2e-c84c-2a957a2f2e72"
      },
      "source": [
        "clustered_data_hc[clustered_data_hc.cluster == 0].country.values"
      ],
      "execution_count": null,
      "outputs": [
        {
          "output_type": "execute_result",
          "data": {
            "text/plain": [
              "array(['Albania', 'Antigua and Barbuda', 'Armenia', 'Australia',\n",
              "       'Austria', 'Bahamas', 'Bahrain', 'Barbados', 'Belarus', 'Belgium',\n",
              "       'Belize', 'Bhutan', 'Bosnia and Herzegovina', 'Brazil', 'Brunei',\n",
              "       'Bulgaria', 'Cambodia', 'Canada', 'Cape Verde', 'Chile', 'China',\n",
              "       'Colombia', 'Costa Rica', 'Croatia', 'Cyprus', 'Czech Republic',\n",
              "       'Denmark', 'Dominican Republic', 'Ecuador', 'El Salvador',\n",
              "       'Estonia', 'Fiji', 'Finland', 'France', 'Georgia', 'Germany',\n",
              "       'Greece', 'Grenada', 'Guatemala', 'Guyana', 'Hungary', 'Iceland',\n",
              "       'Ireland', 'Israel', 'Italy', 'Jamaica', 'Japan', 'Jordan',\n",
              "       'Kuwait', 'Kyrgyz Republic', 'Latvia', 'Lebanon', 'Libya',\n",
              "       'Lithuania', 'Luxembourg', 'Macedonia, FYR', 'Malaysia',\n",
              "       'Maldives', 'Malta', 'Mauritius', 'Moldova', 'Montenegro',\n",
              "       'Morocco', 'Netherlands', 'New Zealand', 'Norway', 'Oman',\n",
              "       'Panama', 'Paraguay', 'Peru', 'Poland', 'Portugal', 'Qatar',\n",
              "       'Romania', 'Samoa', 'Saudi Arabia', 'Serbia', 'Seychelles',\n",
              "       'Singapore', 'Slovak Republic', 'Slovenia', 'South Korea', 'Spain',\n",
              "       'St. Vincent and the Grenadines', 'Suriname', 'Sweden',\n",
              "       'Switzerland', 'Thailand', 'Tonga', 'Tunisia', 'Turkey',\n",
              "       'Turkmenistan', 'Ukraine', 'United Arab Emirates',\n",
              "       'United Kingdom', 'United States', 'Uruguay', 'Vanuatu', 'Vietnam'],\n",
              "      dtype=object)"
            ]
          },
          "metadata": {
            "tags": []
          },
          "execution_count": 150
        }
      ]
    },
    {
      "cell_type": "code",
      "metadata": {
        "id": "x_odgiIVeLRu",
        "outputId": "1a2476ec-e12f-4471-de04-a7b68039fc93"
      },
      "source": [
        "clustered_data_hc[clustered_data_hc.cluster == 1].country.values"
      ],
      "execution_count": null,
      "outputs": [
        {
          "output_type": "execute_result",
          "data": {
            "text/plain": [
              "array(['Afghanistan', 'Algeria', 'Angola', 'Argentina', 'Azerbaijan',\n",
              "       'Bangladesh', 'Benin', 'Bolivia', 'Botswana', 'Burkina Faso',\n",
              "       'Burundi', 'Cameroon', 'Central African Republic', 'Chad',\n",
              "       'Comoros', 'Congo, Dem. Rep.', 'Congo, Rep.', \"Cote d'Ivoire\",\n",
              "       'Egypt', 'Equatorial Guinea', 'Eritrea', 'Gabon', 'Gambia',\n",
              "       'Ghana', 'Guinea', 'Guinea-Bissau', 'Haiti', 'India', 'Indonesia',\n",
              "       'Iran', 'Iraq', 'Kazakhstan', 'Kenya', 'Kiribati', 'Lao',\n",
              "       'Lesotho', 'Liberia', 'Madagascar', 'Malawi', 'Mali', 'Mauritania',\n",
              "       'Micronesia, Fed. Sts.', 'Mongolia', 'Mozambique', 'Myanmar',\n",
              "       'Namibia', 'Nepal', 'Niger', 'Nigeria', 'Pakistan', 'Philippines',\n",
              "       'Russia', 'Rwanda', 'Senegal', 'Sierra Leone', 'Solomon Islands',\n",
              "       'South Africa', 'Sri Lanka', 'Sudan', 'Tajikistan', 'Tanzania',\n",
              "       'Timor-Leste', 'Togo', 'Uganda', 'Uzbekistan', 'Venezuela',\n",
              "       'Yemen', 'Zambia'], dtype=object)"
            ]
          },
          "metadata": {
            "tags": []
          },
          "execution_count": 151
        }
      ]
    }
  ]
}